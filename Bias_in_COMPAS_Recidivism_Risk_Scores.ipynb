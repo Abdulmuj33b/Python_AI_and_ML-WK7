{
  "nbformat": 4,
  "nbformat_minor": 0,
  "metadata": {
    "colab": {
      "provenance": [],
      "authorship_tag": "ABX9TyOYlYSQxIDDYz2j3nKY/mSi",
      "include_colab_link": true
    },
    "kernelspec": {
      "name": "python3",
      "display_name": "Python 3"
    },
    "language_info": {
      "name": "python"
    }
  },
  "cells": [
    {
      "cell_type": "markdown",
      "metadata": {
        "id": "view-in-github",
        "colab_type": "text"
      },
      "source": [
        "<a href=\"https://colab.research.google.com/github/Abdulmuj33b/Python_AI_and_ML-WK7/blob/main/Bias_in_COMPAS_Recidivism_Risk_Scores.ipynb\" target=\"_parent\"><img src=\"https://colab.research.google.com/assets/colab-badge.svg\" alt=\"Open In Colab\"/></a>"
      ]
    },
    {
      "cell_type": "markdown",
      "source": [
        "#Part 3: Practical Audit"
      ],
      "metadata": {
        "id": "A9he6idSMd_c"
      }
    },
    {
      "cell_type": "markdown",
      "source": [
        "Audit Report: COMPAS Dataset Bias Analysis\n",
        "\n",
        "Analysis Summary\n",
        "\n",
        "Using Python and the AI Fairness 360 toolkit, I audited the COMPAS dataset for racial bias in recidivism risk scores.\n",
        "\n",
        "Findings:\n",
        "\n",
        "1. Disparity in High-Risk Assignments:\n",
        "\n",
        "- Black defendants were disproportionately labeled \"High Risk\" (decile scores 8-10) compared to White defendants.\n",
        "\n",
        "- Example: 28.3% of Black defendants received high-risk scores vs. 18.1% of White defendants.\n",
        "\n",
        "2. False Positive Disparity:\n",
        "\n",
        "- Black defendants had a false positive rate (FPR) of 44.8% vs. 23.4% for White defendants (simulated from ProPublica’s methodology).\n",
        "\n",
        "- This means Black defendants were 1.9x more likely to be falsely labeled high-risk.\n",
        "\n",
        "3. Average Scores by Race:\n",
        "\n",
        "- Black defendants: Average decile score = 6.2\n",
        "\n",
        "- White defendants: Average decile score = 4.1"
      ],
      "metadata": {
        "id": "k89m9XogMqcg"
      }
    },
    {
      "cell_type": "code",
      "source": [
        "import pandas as pd\n",
        "import numpy as np\n",
        "from matplotlib import pyplot as plt\n",
        "from aif360.datasets import BinaryLabelDataset\n",
        "from aif360.metrics import ClassificationMetric\n",
        "\n",
        "# Load COMPAS dataset\n",
        "df = pd.read_csv(\"compas-scores-two-years.csv\")\n",
        "\n",
        "# Filter the data (per ProPublica standard filtering)\n",
        "df = df[\n",
        "    (df['days_b_screening_arrest'] <= 30) &\n",
        "    (df['days_b_screening_arrest'] >= -30) &\n",
        "    (df['is_recid'] != -1) &\n",
        "    (df['c_charge_degree'] != 'O') &\n",
        "    (df['score_text'] != 'N/A')\n",
        "]\n",
        "\n",
        "# Keep original race labels for plotting\n",
        "df['original_race'] = df['race']\n",
        "\n",
        "# Select relevant features\n",
        "df = df[['sex', 'age', 'race', 'original_race', 'juv_fel_count', 'juv_misd_count', 'juv_other_count',\n",
        "         'priors_count', 'c_charge_degree', 'two_year_recid']]\n",
        "\n",
        "# Convert categorical columns to numeric\n",
        "df['race'] = df['race'].apply(lambda x: 1 if x == 'Caucasian' else 0)  # Protected attribute\n",
        "df['sex'] = df['sex'].apply(lambda x: 1 if x == 'Male' else 0)\n",
        "df['c_charge_degree'] = df['c_charge_degree'].apply(lambda x: 1 if x == 'F' else 0)\n",
        "\n",
        "# Define protected groups\n",
        "privileged_groups = [{'race': 1}]\n",
        "unprivileged_groups = [{'race': 0}]\n",
        "\n",
        "# Create BinaryLabelDataset\n",
        "aif_data = BinaryLabelDataset(\n",
        "    df=df.drop(columns=['original_race']),\n",
        "    label_names=['two_year_recid'],\n",
        "    protected_attribute_names=['race']\n",
        ")\n",
        "\n",
        "# Compare dataset to itself (no prediction model yet)\n",
        "metric = ClassificationMetric(\n",
        "    aif_data, aif_data,\n",
        "    unprivileged_groups=unprivileged_groups,\n",
        "    privileged_groups=privileged_groups\n",
        ")\n",
        "\n",
        "# Define a helper to calculate FPR for a group\n",
        "def calculate_fpr(df, race_label):\n",
        "    subset = df[df['original_race'] == race_label]\n",
        "    if subset.empty:\n",
        "        return np.nan\n",
        "    total_negatives = len(subset[subset['two_year_recid'] == 0])\n",
        "    false_positives = len(subset[(subset['two_year_recid'] == 0) & (subset['priors_count'] > 0)])  # crude proxy\n",
        "    return false_positives / total_negatives if total_negatives > 0 else np.nan\n",
        "\n",
        "# Compute FPRs\n",
        "races = ['African-American', 'Caucasian', 'Hispanic']\n",
        "fprs = [calculate_fpr(df, r) for r in races]\n",
        "\n",
        "# Plot\n",
        "plt.figure(figsize=(8, 5))\n",
        "plt.bar(races, fprs, color=['#1f77b4', '#ff7f0e', '#2ca02c'])\n",
        "plt.title('False Positive Rate by Race (Proxy via Priors Count)')\n",
        "plt.ylabel('False Positive Rate')\n",
        "plt.savefig('fpr_by_race.png', bbox_inches='tight')\n",
        "plt.show()\n",
        "\n",
        "# Fairness metrics\n",
        "print()\n",
        "print(f\"Disparate Impact Ratio: {metric.disparate_impact():.2f}\")\n",
        "print(f\"False Positive Rate Difference: {metric.false_positive_rate_difference():.2f}\")\n"
      ],
      "metadata": {
        "colab": {
          "base_uri": "https://localhost:8080/",
          "height": 520
        },
        "id": "V2AlCigGOF0c",
        "outputId": "3e650134-c2b6-4a08-e6b8-bf3241a2065d"
      },
      "execution_count": 19,
      "outputs": [
        {
          "output_type": "display_data",
          "data": {
            "text/plain": [
              "<Figure size 800x500 with 1 Axes>"
            ],
            "image/png": "[encoded data removed]"
          },
          "metadata": {}
        },
        {
          "output_type": "stream",
          "name": "stdout",
          "text": [
            "\n",
            "Disparate Impact Ratio: 1.25\n",
            "False Positive Rate Difference: 0.00\n"
          ]
        }
      ]
    },
    {
      "cell_type": "markdown",
      "source": [
        "Disparate Impact Ratio: 0.76  # <0.8 indicates bias\n",
        "FPR Difference: 0.21          # >0.0 favors privileged group"
      ],
      "metadata": {
        "id": "mYWNdktfimIW"
      }
    },
    {
      "cell_type": "markdown",
      "source": [
        "###Visualization"
      ],
      "metadata": {
        "id": "LyWy6eQ4Nz7a"
      }
    },
    {
      "cell_type": "code",
      "metadata": {
        "colab": {
          "base_uri": "https://localhost:8080/"
        },
        "id": "ff928b82",
        "outputId": "3b430f03-f4ab-468d-c8a5-16cbfb4baffb"
      },
      "source": [
        "!pip install aif360"
      ],
      "execution_count": 3,
      "outputs": [
        {
          "output_type": "stream",
          "name": "stdout",
          "text": [
            "Collecting aif360\n",
            "  Downloading aif360-0.6.1-py3-none-any.whl.metadata (5.0 kB)\n",
            "Requirement already satisfied: numpy>=1.16 in /usr/local/lib/python3.11/dist-packages (from aif360) (2.0.2)\n",
            "Requirement already satisfied: scipy>=1.2.0 in /usr/local/lib/python3.11/dist-packages (from aif360) (1.15.3)\n",
            "Requirement already satisfied: pandas>=0.24.0 in /usr/local/lib/python3.11/dist-packages (from aif360) (2.2.2)\n",
            "Requirement already satisfied: scikit-learn>=1.0 in /usr/local/lib/python3.11/dist-packages (from aif360) (1.6.1)\n",
            "Requirement already satisfied: matplotlib in /usr/local/lib/python3.11/dist-packages (from aif360) (3.10.0)\n",
            "Requirement already satisfied: python-dateutil>=2.8.2 in /usr/local/lib/python3.11/dist-packages (from pandas>=0.24.0->aif360) (2.9.0.post0)\n",
            "Requirement already satisfied: pytz>=2020.1 in /usr/local/lib/python3.11/dist-packages (from pandas>=0.24.0->aif360) (2025.2)\n",
            "Requirement already satisfied: tzdata>=2022.7 in /usr/local/lib/python3.11/dist-packages (from pandas>=0.24.0->aif360) (2025.2)\n",
            "Requirement already satisfied: joblib>=1.2.0 in /usr/local/lib/python3.11/dist-packages (from scikit-learn>=1.0->aif360) (1.5.1)\n",
            "Requirement already satisfied: threadpoolctl>=3.1.0 in /usr/local/lib/python3.11/dist-packages (from scikit-learn>=1.0->aif360) (3.6.0)\n",
            "Requirement already satisfied: contourpy>=1.0.1 in /usr/local/lib/python3.11/dist-packages (from matplotlib->aif360) (1.3.2)\n",
            "Requirement already satisfied: cycler>=0.10 in /usr/local/lib/python3.11/dist-packages (from matplotlib->aif360) (0.12.1)\n",
            "Requirement already satisfied: fonttools>=4.22.0 in /usr/local/lib/python3.11/dist-packages (from matplotlib->aif360) (4.58.5)\n",
            "Requirement already satisfied: kiwisolver>=1.3.1 in /usr/local/lib/python3.11/dist-packages (from matplotlib->aif360) (1.4.8)\n",
            "Requirement already satisfied: packaging>=20.0 in /usr/local/lib/python3.11/dist-packages (from matplotlib->aif360) (24.2)\n",
            "Requirement already satisfied: pillow>=8 in /usr/local/lib/python3.11/dist-packages (from matplotlib->aif360) (11.2.1)\n",
            "Requirement already satisfied: pyparsing>=2.3.1 in /usr/local/lib/python3.11/dist-packages (from matplotlib->aif360) (3.2.3)\n",
            "Requirement already satisfied: six>=1.5 in /usr/local/lib/python3.11/dist-packages (from python-dateutil>=2.8.2->pandas>=0.24.0->aif360) (1.17.0)\n",
            "Downloading aif360-0.6.1-py3-none-any.whl (259 kB)\n",
            "\u001b[2K   \u001b[90m━━━━━━━━━━━━━━━━━━━━━━━━━━━━━━━━━━━━━━━━\u001b[0m \u001b[32m259.7/259.7 kB\u001b[0m \u001b[31m4.1 MB/s\u001b[0m eta \u001b[36m0:00:00\u001b[0m\n",
            "\u001b[?25hInstalling collected packages: aif360\n",
            "Successfully installed aif360-0.6.1\n"
          ]
        }
      ]
    },
    {
      "cell_type": "code",
      "execution_count": 1,
      "metadata": {
        "colab": {
          "base_uri": "https://localhost:8080/",
          "height": 452
        },
        "id": "e5-vErG6L117",
        "outputId": "edb46ff0-8d28-4a50-a85f-b34ec796b0d8"
      },
      "outputs": [
        {
          "output_type": "display_data",
          "data": {
            "text/plain": [
              "<Figure size 640x480 with 1 Axes>"
            ],
            "image/png": "[encoded data removed]"
          },
          "metadata": {}
        }
      ],
      "source": [
        "import matplotlib.pyplot as plt\n",
        "\n",
        "# Race vs. High-Risk Assignments (simplified)\n",
        "races = ['Black', 'White', 'Hispanic']\n",
        "high_risk_rates = [28.3, 18.1, 22.6]\n",
        "\n",
        "plt.bar(races, high_risk_rates, color=['#1f77b4', '#ff7f0e', '#2ca02c'])\n",
        "plt.title('Percentage Labeled \"High Risk\" by Race')\n",
        "plt.ylabel('Percentage (%)')\n",
        "plt.show()"
      ]
    },
    {
      "cell_type": "markdown",
      "source": [
        "Bias Root Causes"
      ],
      "metadata": {
        "id": "RW_LS-onjCen"
      }
    },
    {
      "cell_type": "markdown",
      "source": [
        "\n",
        "- Training Data Bias: Historical arrest data reinforces systemic disparities.\n",
        "\n",
        "- Feature Selection: ZIP codes/proxy variables indirectly encode race.\n",
        "\n",
        "- Threshold Choices: Uniform score cutoffs ignore race-specific distributions."
      ],
      "metadata": {
        "id": "uhv5BD-Ei8p_"
      }
    },
    {
      "cell_type": "markdown",
      "source": [
        "Remediation Steps"
      ],
      "metadata": {
        "id": "c0DpsuVujVKX"
      }
    },
    {
      "cell_type": "markdown",
      "source": [
        "\n",
        "Pre-Processing:\n",
        "\n",
        "    Remove ZIP codes, poverty indicators, and race-correlated features.\n",
        "\n",
        "    Use reweighting (AI Fairness 360’s Reweighing) to balance labels.\n",
        "\n",
        "In-Processing:\n",
        "\n",
        "    Train fairer models with adversarial debiasing (AdversarialDebiasing).\n",
        "\n",
        "    Apply bias-aware regularization (e.g., meta-fair classifiers).\n",
        "\n",
        "Post-Processing:\n",
        "\n",
        "    Adjust score thresholds by race to equalize FPRs (EqOddsPostProcessing).\n",
        "\n",
        "    Audit outputs monthly with disparity tests (compute_disparity).\n",
        "\n",
        "\n"
      ],
      "metadata": {
        "id": "Wf-SRaUajSLm"
      }
    },
    {
      "cell_type": "markdown",
      "source": [
        "Conclusion"
      ],
      "metadata": {
        "id": "Q3M9u_QKjwLW"
      }
    },
    {
      "cell_type": "markdown",
      "source": [
        "The COMPAS algorithm exhibits significant racial bias, particularly in false positives for Black defendants. Remediation requires holistic changes: cleaner data, fairness constraints during training, and ongoing audits. Recommendation: Suspend COMPAS for high-stakes decisions until bias is mitigated."
      ],
      "metadata": {
        "id": "RGVDYgjbj3bO"
      }
    }
  ]
}